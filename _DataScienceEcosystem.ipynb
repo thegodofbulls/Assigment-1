{
 "cells": [
  {
   "cell_type": "markdown",
   "id": "2f9c0da3-68fe-4e55-89fe-2c248d2e1aa4",
   "metadata": {},
   "source": [
    "Data Science Tools and Ecosystem"
   ]
  },
  {
   "cell_type": "markdown",
   "id": "bdb0127d-1887-46c7-8637-70f2e4301b96",
   "metadata": {},
   "source": [
    "In this notebook, Data Science Tools and Ecosystem are summarized."
   ]
  },
  {
   "cell_type": "markdown",
   "id": "386bd0ad-7e25-48d5-a42f-207ba55be42a",
   "metadata": {},
   "source": [
    "Some of the popular languages that Data Scientists use are:\n",
    "1) Python\n",
    "2) SQL\n",
    "3) R"
   ]
  },
  {
   "cell_type": "markdown",
   "id": "5bb5a710-dde9-42cf-bc2d-9feee7de564a",
   "metadata": {},
   "source": [
    "Some of the commonly used libraries used by Data Scientists include:\n",
    "1) Matplotlab, Pandas, Numby\n",
    "2) ggplot, plotly, lattice"
   ]
  },
  {
   "cell_type": "markdown",
   "id": "2987a90b-d404-4f08-9855-305e16dab502",
   "metadata": {},
   "source": [
    "|Data Science Tools |\n",
    "|-------------------|\n",
    "| Jupyter notebook |\n",
    "| Rstudio |\n",
    "| Google colab |"
   ]
  },
  {
   "cell_type": "markdown",
   "id": "969bfe60-bff7-4562-b7c2-168177d8097d",
   "metadata": {},
   "source": [
    "Below are a few examples of evaluating arithmetic expressions in Python"
   ]
  },
  {
   "cell_type": "code",
   "execution_count": 2,
   "id": "8301f8a8-d530-49eb-ae47-22e755127290",
   "metadata": {},
   "outputs": [
    {
     "name": "stdout",
     "output_type": "stream",
     "text": [
      "17\n"
     ]
    }
   ],
   "source": [
    "#This a simple arithmetic expression to mutiply then add integers.\n",
    "print((3*4)+5)"
   ]
  },
  {
   "cell_type": "code",
   "execution_count": 4,
   "id": "13fcb1ac-0909-44d4-91f4-e2627ae0772f",
   "metadata": {},
   "outputs": [
    {
     "name": "stdout",
     "output_type": "stream",
     "text": [
      "3.3333333333333335\n"
     ]
    }
   ],
   "source": [
    " #This will convert 200 minutes to hours by diving by 60.\n",
    "print(200/60)\n"
   ]
  },
  {
   "cell_type": "markdown",
   "id": "6bb8bf90-e16e-4aff-bfe0-d20844e72e68",
   "metadata": {},
   "source": [
    "Author-\n",
    "Hassan Oluwaseun Rasaq\n"
   ]
  },
  {
   "cell_type": "code",
   "execution_count": null,
   "id": "449df3c3-cf12-4122-9d85-098b3f6e43f1",
   "metadata": {},
   "outputs": [],
   "source": []
  }
 ],
 "metadata": {
  "kernelspec": {
   "display_name": "Python 3 (ipykernel)",
   "language": "python",
   "name": "python3"
  },
  "language_info": {
   "codemirror_mode": {
    "name": "ipython",
    "version": 3
   },
   "file_extension": ".py",
   "mimetype": "text/x-python",
   "name": "python",
   "nbconvert_exporter": "python",
   "pygments_lexer": "ipython3",
   "version": "3.12.5"
  }
 },
 "nbformat": 4,
 "nbformat_minor": 5
}
